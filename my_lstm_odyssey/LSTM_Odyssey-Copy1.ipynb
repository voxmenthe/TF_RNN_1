{
 "cells": [
  {
   "cell_type": "markdown",
   "metadata": {
    "deletable": true,
    "editable": true
   },
   "source": [
    "https://medium.com/jim-fleming/implementing-lstm-a-search-space-odyssey-7d50c3bacf93"
   ]
  },
  {
   "cell_type": "code",
   "execution_count": 1,
   "metadata": {
    "collapsed": false,
    "deletable": true,
    "editable": true
   },
   "outputs": [
    {
     "data": {
      "application/javascript": [
       "IPython.notebook.set_autosave_interval(0)"
      ]
     },
     "metadata": {},
     "output_type": "display_data"
    },
    {
     "name": "stdout",
     "output_type": "stream",
     "text": [
      "Autosave disabled\n"
     ]
    }
   ],
   "source": [
    "import numpy as np\n",
    "import tensorflow as tf\n",
    "%autosave 0"
   ]
  },
  {
   "cell_type": "code",
   "execution_count": null,
   "metadata": {
    "collapsed": true,
    "deletable": true,
    "editable": true
   },
   "outputs": [],
   "source": [
    "class VanillaLSTMCell(object):\n",
    "    def __init__(self, num_blocks):\n",
    "        self._num_blocks = num_blocks\n",
    "        \n",
    "    @property\n",
    "    def input_size(self):\n",
    "        return self._num_blocks\n",
    "    \n",
    "    @property\n",
    "    def output_size(self):\n",
    "        return self._num_blocks\n",
    "    \n",
    "    def __call__(self, inputs, state, scope=None):\n",
    "        with tf.variables_scope(scope or type(self).__name__):\n",
    "            initializer = tf.random_uniform_initializer(-0.1, 0.1)\n",
    "            \n",
    "            def get_variable(name, shape):\n",
    "                return tf.get_variable(name, shape, initializer=initializer, dtype=inputs.dtype)\n",
    "            \n",
    "            c_prev, y_prev = tf.split(1, 2, state)"
   ]
  }
 ],
 "metadata": {
  "kernelspec": {
   "display_name": "Python 3",
   "language": "python",
   "name": "python3"
  },
  "language_info": {
   "codemirror_mode": {
    "name": "ipython",
    "version": 3
   },
   "file_extension": ".py",
   "mimetype": "text/x-python",
   "name": "python",
   "nbconvert_exporter": "python",
   "pygments_lexer": "ipython3",
   "version": "3.5.2"
  }
 },
 "nbformat": 4,
 "nbformat_minor": 2
}
